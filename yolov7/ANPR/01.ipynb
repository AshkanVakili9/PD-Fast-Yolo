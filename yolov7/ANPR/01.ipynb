{
 "cells": [
  {
   "cell_type": "code",
   "execution_count": null,
   "metadata": {},
   "outputs": [],
   "source": [
    "!python train.py --batch 16 --cfg C:/Users/ASH/Desktop/Maryam/yolov7/cfg/training/yolov7.yaml --epochs 55 --data C:/Users/ASH/Desktop/Maryam/yolov7/Car-Plate-1/data.yaml --weights 'yolov7.pt'\n"
   ]
  },
  {
   "cell_type": "code",
   "execution_count": 1,
   "metadata": {},
   "outputs": [
    {
     "name": "stderr",
     "output_type": "stream",
     "text": [
      "C:\\Users\\ASH\\AppData\\Local\\Programs\\Python\\Python311\\python.exe: can't open file 'c:\\\\Users\\\\ASH\\\\Desktop\\\\Maryam\\\\yolov7\\\\ANPR\\\\detect.py': [Errno 2] No such file or directory\n"
     ]
    }
   ],
   "source": [
    "!python detect.py --weights weights/best.pt --conf 0.1 --source C:/Users/ASH/Desktop/Maryam/yolov7/ANPR/images_vids/01.jpg\n"
   ]
  },
  {
   "cell_type": "code",
   "execution_count": null,
   "metadata": {},
   "outputs": [],
   "source": []
  }
 ],
 "metadata": {
  "kernelspec": {
   "display_name": "venv7",
   "language": "python",
   "name": "python3"
  },
  "language_info": {
   "codemirror_mode": {
    "name": "ipython",
    "version": 3
   },
   "file_extension": ".py",
   "mimetype": "text/x-python",
   "name": "python",
   "nbconvert_exporter": "python",
   "pygments_lexer": "ipython3",
   "version": "3.11.5"
  }
 },
 "nbformat": 4,
 "nbformat_minor": 2
}
